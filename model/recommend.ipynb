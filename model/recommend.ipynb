{
 "cells": [
  {
   "cell_type": "code",
   "execution_count": 1,
   "metadata": {},
   "outputs": [],
   "source": [
    "from mainIngModel import *\n",
    "from sklearn.metrics.pairwise import cosine_similarity\n",
    "import matplotlib.pyplot as plt\n",
    "import copy"
   ]
  },
  {
   "cell_type": "code",
   "execution_count": 2,
   "metadata": {},
   "outputs": [],
   "source": [
    "sampleIdArr = []\n",
    "allIngData = []\n",
    "mainIngData =[]\n",
    "\n",
    "with open('./labelledData/mainIngredients.csv', encoding='utf-8') as f:\n",
    "    r = csv.reader(f)\n",
    "    for i, recipe in enumerate(r):\n",
    "        if i == 0:\n",
    "            continue\n",
    "        sampleIdArr.append(recipe[1])\n",
    "        allIngData.append(oneHotEncoding(recipe[2].split('/')))\n",
    "        mainIngData.append(list(map(int, (recipe[3].split('/')))))\n",
    "\n",
    "train_all = []\n",
    "train_main = []\n",
    "for i, mainIngArr in enumerate(mainIngData):\n",
    "    for mainIng in mainIngArr:\n",
    "        train_all.append(allIngData[i])\n",
    "        train_main.append(mainIng)\n",
    "\n",
    "ingNameArr = loadIngNameData()"
   ]
  },
  {
   "cell_type": "code",
   "execution_count": 3,
   "metadata": {},
   "outputs": [
    {
     "data": {
      "text/html": [
       "<style>#sk-container-id-1 {color: black;}#sk-container-id-1 pre{padding: 0;}#sk-container-id-1 div.sk-toggleable {background-color: white;}#sk-container-id-1 label.sk-toggleable__label {cursor: pointer;display: block;width: 100%;margin-bottom: 0;padding: 0.3em;box-sizing: border-box;text-align: center;}#sk-container-id-1 label.sk-toggleable__label-arrow:before {content: \"▸\";float: left;margin-right: 0.25em;color: #696969;}#sk-container-id-1 label.sk-toggleable__label-arrow:hover:before {color: black;}#sk-container-id-1 div.sk-estimator:hover label.sk-toggleable__label-arrow:before {color: black;}#sk-container-id-1 div.sk-toggleable__content {max-height: 0;max-width: 0;overflow: hidden;text-align: left;background-color: #f0f8ff;}#sk-container-id-1 div.sk-toggleable__content pre {margin: 0.2em;color: black;border-radius: 0.25em;background-color: #f0f8ff;}#sk-container-id-1 input.sk-toggleable__control:checked~div.sk-toggleable__content {max-height: 200px;max-width: 100%;overflow: auto;}#sk-container-id-1 input.sk-toggleable__control:checked~label.sk-toggleable__label-arrow:before {content: \"▾\";}#sk-container-id-1 div.sk-estimator input.sk-toggleable__control:checked~label.sk-toggleable__label {background-color: #d4ebff;}#sk-container-id-1 div.sk-label input.sk-toggleable__control:checked~label.sk-toggleable__label {background-color: #d4ebff;}#sk-container-id-1 input.sk-hidden--visually {border: 0;clip: rect(1px 1px 1px 1px);clip: rect(1px, 1px, 1px, 1px);height: 1px;margin: -1px;overflow: hidden;padding: 0;position: absolute;width: 1px;}#sk-container-id-1 div.sk-estimator {font-family: monospace;background-color: #f0f8ff;border: 1px dotted black;border-radius: 0.25em;box-sizing: border-box;margin-bottom: 0.5em;}#sk-container-id-1 div.sk-estimator:hover {background-color: #d4ebff;}#sk-container-id-1 div.sk-parallel-item::after {content: \"\";width: 100%;border-bottom: 1px solid gray;flex-grow: 1;}#sk-container-id-1 div.sk-label:hover label.sk-toggleable__label {background-color: #d4ebff;}#sk-container-id-1 div.sk-serial::before {content: \"\";position: absolute;border-left: 1px solid gray;box-sizing: border-box;top: 0;bottom: 0;left: 50%;z-index: 0;}#sk-container-id-1 div.sk-serial {display: flex;flex-direction: column;align-items: center;background-color: white;padding-right: 0.2em;padding-left: 0.2em;position: relative;}#sk-container-id-1 div.sk-item {position: relative;z-index: 1;}#sk-container-id-1 div.sk-parallel {display: flex;align-items: stretch;justify-content: center;background-color: white;position: relative;}#sk-container-id-1 div.sk-item::before, #sk-container-id-1 div.sk-parallel-item::before {content: \"\";position: absolute;border-left: 1px solid gray;box-sizing: border-box;top: 0;bottom: 0;left: 50%;z-index: -1;}#sk-container-id-1 div.sk-parallel-item {display: flex;flex-direction: column;z-index: 1;position: relative;background-color: white;}#sk-container-id-1 div.sk-parallel-item:first-child::after {align-self: flex-end;width: 50%;}#sk-container-id-1 div.sk-parallel-item:last-child::after {align-self: flex-start;width: 50%;}#sk-container-id-1 div.sk-parallel-item:only-child::after {width: 0;}#sk-container-id-1 div.sk-dashed-wrapped {border: 1px dashed gray;margin: 0 0.4em 0.5em 0.4em;box-sizing: border-box;padding-bottom: 0.4em;background-color: white;}#sk-container-id-1 div.sk-label label {font-family: monospace;font-weight: bold;display: inline-block;line-height: 1.2em;}#sk-container-id-1 div.sk-label-container {text-align: center;}#sk-container-id-1 div.sk-container {/* jupyter's `normalize.less` sets `[hidden] { display: none; }` but bootstrap.min.css set `[hidden] { display: none !important; }` so we also need the `!important` here to be able to override the default hidden behavior on the sphinx rendered scikit-learn.org. See: https://github.com/scikit-learn/scikit-learn/issues/21755 */display: inline-block !important;position: relative;}#sk-container-id-1 div.sk-text-repr-fallback {display: none;}</style><div id=\"sk-container-id-1\" class=\"sk-top-container\"><div class=\"sk-text-repr-fallback\"><pre>Pipeline(steps=[(&#x27;pca&#x27;, PCA(n_components=0.9)),\n",
       "                (&#x27;model&#x27;, SVC(probability=True))])</pre><b>In a Jupyter environment, please rerun this cell to show the HTML representation or trust the notebook. <br />On GitHub, the HTML representation is unable to render, please try loading this page with nbviewer.org.</b></div><div class=\"sk-container\" hidden><div class=\"sk-item sk-dashed-wrapped\"><div class=\"sk-label-container\"><div class=\"sk-label sk-toggleable\"><input class=\"sk-toggleable__control sk-hidden--visually\" id=\"sk-estimator-id-1\" type=\"checkbox\" ><label for=\"sk-estimator-id-1\" class=\"sk-toggleable__label sk-toggleable__label-arrow\">Pipeline</label><div class=\"sk-toggleable__content\"><pre>Pipeline(steps=[(&#x27;pca&#x27;, PCA(n_components=0.9)),\n",
       "                (&#x27;model&#x27;, SVC(probability=True))])</pre></div></div></div><div class=\"sk-serial\"><div class=\"sk-item\"><div class=\"sk-estimator sk-toggleable\"><input class=\"sk-toggleable__control sk-hidden--visually\" id=\"sk-estimator-id-2\" type=\"checkbox\" ><label for=\"sk-estimator-id-2\" class=\"sk-toggleable__label sk-toggleable__label-arrow\">PCA</label><div class=\"sk-toggleable__content\"><pre>PCA(n_components=0.9)</pre></div></div></div><div class=\"sk-item\"><div class=\"sk-estimator sk-toggleable\"><input class=\"sk-toggleable__control sk-hidden--visually\" id=\"sk-estimator-id-3\" type=\"checkbox\" ><label for=\"sk-estimator-id-3\" class=\"sk-toggleable__label sk-toggleable__label-arrow\">SVC</label><div class=\"sk-toggleable__content\"><pre>SVC(probability=True)</pre></div></div></div></div></div></div></div>"
      ],
      "text/plain": [
       "Pipeline(steps=[('pca', PCA(n_components=0.9)),\n",
       "                ('model', SVC(probability=True))])"
      ]
     },
     "execution_count": 3,
     "metadata": {},
     "output_type": "execute_result"
    }
   ],
   "source": [
    "pipeline = createPipeline(modelType='svm')\n",
    "pipeline.fit(train_all, train_main)"
   ]
  },
  {
   "cell_type": "code",
   "execution_count": 4,
   "metadata": {},
   "outputs": [],
   "source": [
    "recipeMat = []\n",
    "weight = 10\n",
    "\n",
    "for sampleIdx, sample in enumerate(allIngData):\n",
    "    temp_sample = [*sample]\n",
    "    for mainIdx in mainIngData[sampleIdx]:\n",
    "        temp_sample[mainIdx] *= weight\n",
    "    recipeMat.append(temp_sample)"
   ]
  },
  {
   "cell_type": "code",
   "execution_count": 5,
   "metadata": {},
   "outputs": [],
   "source": [
    "def getSimilarArr(pipeline, train_main, rawData, _recipeMat, sampleIdArr, ingNameArr, weight=3, k=0.55):\n",
    "    recipeMat = copy.deepcopy(_recipeMat)\n",
    "\n",
    "    sample = createSample(createIndexedData(rawData, ingNameArr))\n",
    "\n",
    "    result = pipeline.predict_proba([sample])[0]\n",
    "\n",
    "    parsed_train_main = sorted(list(set(train_main)))\n",
    "\n",
    "    predictedMainIngArr = []\n",
    "    idx = np.argmax(result)\n",
    "    for mainIdArr in np.where(result > k*result[idx]):\n",
    "        for mainId in mainIdArr:\n",
    "                predictedMainIngArr.append(parsed_train_main[mainId])\n",
    "\n",
    "    temp_sample = [*sample]\n",
    "    for mainIdx in predictedMainIngArr:\n",
    "        temp_sample[mainIdx] *= weight\n",
    "    recipeMat.append(temp_sample)\n",
    "\n",
    "    cosineResult = cosine_similarity(recipeMat)\n",
    "    sortedArr = sorted(cosineResult[-1], reverse=True)\n",
    "    print(sortedArr[1:20])\n",
    "    for value in sortedArr[1:20]:\n",
    "        for j in np.where(cosineResult[-1] == value)[0]:\n",
    "            print(sampleIdArr[j])\n",
    "    plt.plot(sortedArr)\n",
    "    plt.ylabel('cosine similarity')\n",
    "    plt.show()"
   ]
  },
  {
   "cell_type": "code",
   "execution_count": 6,
   "metadata": {},
   "outputs": [
    {
     "name": "stdout",
     "output_type": "stream",
     "text": [
      "[0.9901475429766744, 0.9853292781642932, 0.9853292781642932, 0.9805806756909202, 0.9759000729485332, 0.9759000729485332, 0.9712858623572641, 0.9712858623572641, 0.9712858623572641, 0.9667364890456636, 0.9534625892455924, 0.949157995752499, 0.936585811581694, 0.7071067811865475, 0.7053456158585982, 0.7035975447302919, 0.7035975447302919, 0.7035975447302919, 0.7035975447302919]\n",
      "6903714\n",
      "6903176\n",
      "6903972\n",
      "6903176\n",
      "6903972\n",
      "6902354\n",
      "6901526\n",
      "6901688\n",
      "6901526\n",
      "6901688\n",
      "6900236\n",
      "6903672\n",
      "6903964\n",
      "6900236\n",
      "6903672\n",
      "6903964\n",
      "6900236\n",
      "6903672\n",
      "6903964\n",
      "6900327\n",
      "6901517\n",
      "6901809\n",
      "6901777\n",
      "6902353\n",
      "6902534\n",
      "6902230\n",
      "6903054\n",
      "6903512\n",
      "6903985\n",
      "6902230\n",
      "6903054\n",
      "6903512\n",
      "6903985\n",
      "6902230\n",
      "6903054\n",
      "6903512\n",
      "6903985\n",
      "6902230\n",
      "6903054\n",
      "6903512\n",
      "6903985\n"
     ]
    },
    {
     "data": {
      "image/png": "[encoded data removed]",
      "text/plain": [
       "<Figure size 640x480 with 1 Axes>"
      ]
     },
     "metadata": {},
     "output_type": "display_data"
    }
   ],
   "source": [
    "rawData = ['식빵']\n",
    "getSimilarArr(pipeline, train_main, rawData, recipeMat, sampleIdArr, ingNameArr, 10, 0.35)"
   ]
  },
  {
   "cell_type": "code",
   "execution_count": null,
   "metadata": {},
   "outputs": [],
   "source": []
  }
 ],
 "metadata": {
  "kernelspec": {
   "display_name": "recipe-ai",
   "language": "python",
   "name": "python3"
  },
  "language_info": {
   "codemirror_mode": {
    "name": "ipython",
    "version": 3
   },
   "file_extension": ".py",
   "mimetype": "text/x-python",
   "name": "python",
   "nbconvert_exporter": "python",
   "pygments_lexer": "ipython3",
   "version": "3.10.2"
  }
 },
 "nbformat": 4,
 "nbformat_minor": 2
}
