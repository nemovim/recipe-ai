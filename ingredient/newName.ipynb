{
 "cells": [
  {
   "cell_type": "code",
   "execution_count": 1,
   "metadata": {},
   "outputs": [],
   "source": [
    "import csv"
   ]
  },
  {
   "cell_type": "code",
   "execution_count": 14,
   "metadata": {},
   "outputs": [
    {
     "name": "stdout",
     "output_type": "stream",
     "text": [
      "['1026', '육수', '삭제']\n",
      "['1031', '양념장', '삭제']\n",
      "['1044', '오뚜기', '삭제']\n",
      "['1082', '소스', '삭제']\n",
      "['1606', '시즈닝', '삭제']\n",
      "['1780', '만능양념', '삭제']\n",
      "['1842', '소스', '삭제']\n",
      "['1845', '삼계탕재료', '삭제']\n",
      "['1870', '양념', '삭제']\n",
      "['1911', '유부초밥세트', '삭제']\n",
      "['2238', '김밥재료', '삭제']\n",
      "['2868', '까르보불닭', '삭제']\n"
     ]
    }
   ],
   "source": [
    "newIngredientArr = [] # newId, name\n",
    "mappingIdArr = [] # oldId, newId\n",
    "\n",
    "with open('newName.csv', encoding='utf-8') as newFile:\n",
    "    reader = csv.reader(newFile)\n",
    "    for i, ingredient in enumerate(reader):\n",
    "        if i == 0:\n",
    "            continue\n",
    "        elif ingredient[2] =='삭제':\n",
    "            print(ingredient)\n",
    "        else:\n",
    "            if ingredient[2] != '':\n",
    "                ingredient[1] = ingredient[2]\n",
    "\n",
    "            sameIngredient = list(filter(lambda x: x[1] == ingredient[1], newIngredientArr))\n",
    "            mappingIdArr.append([ingredient[0], len(newIngredientArr)])\n",
    "            if len(sameIngredient) == 0:\n",
    "                newIngredientArr.append([len(newIngredientArr), ingredient[1]])\n",
    "\n",
    "# def joinIdArr(ingredient):\n",
    "#     ingredient[1] = '/'.join(ingredient[1])\n",
    "#     return ingredient\n",
    "\n",
    "# newIngredientArr = list(map(joinIdArr, newIngredientArr))\n",
    "\n",
    "with open('newIngredients.csv', '+w', encoding='utf-8', newline='') as newFile:\n",
    "    writer = csv.writer(newFile)\n",
    "    writer.writerow(['id', 'name'])\n",
    "    writer.writerows(newIngredientArr)\n",
    "\n",
    "with open('idMappings.csv', '+w', encoding='utf-8', newline='') as newFile:\n",
    "    writer = csv.writer(newFile)\n",
    "    writer.writerow(['old', 'new'])\n",
    "    writer.writerows(mappingIdArr)"
   ]
  }
 ],
 "metadata": {
  "kernelspec": {
   "display_name": "recipe-ai",
   "language": "python",
   "name": "python3"
  },
  "language_info": {
   "codemirror_mode": {
    "name": "ipython",
    "version": 3
   },
   "file_extension": ".py",
   "mimetype": "text/x-python",
   "name": "python",
   "nbconvert_exporter": "python",
   "pygments_lexer": "ipython3",
   "version": "3.10.2"
  }
 },
 "nbformat": 4,
 "nbformat_minor": 2
}
